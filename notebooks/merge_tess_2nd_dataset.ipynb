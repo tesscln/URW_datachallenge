{
 "cells": [
  {
   "cell_type": "markdown",
   "metadata": {},
   "source": [
    "# Merging the datasets received on Monday January 13th."
   ]
  },
  {
   "cell_type": "code",
   "execution_count": 3,
   "metadata": {},
   "outputs": [],
   "source": [
    "import pandas as pd\n",
    "import numpy as np\n",
    "import matplotlib.pyplot as plt\n",
    "import seaborn as sns"
   ]
  },
  {
   "cell_type": "markdown",
   "metadata": {},
   "source": [
    "### Loading the 'cost_v1.csv' dataset"
   ]
  },
  {
   "cell_type": "code",
   "execution_count": 4,
   "metadata": {},
   "outputs": [],
   "source": [
    "costs = pd.read_csv('../datasets_v2/cost_v1.csv')"
   ]
  },
  {
   "cell_type": "markdown",
   "metadata": {},
   "source": [
    "### Loading the 'dwell_time_v1.csv' dataset"
   ]
  },
  {
   "cell_type": "code",
   "execution_count": 5,
   "metadata": {},
   "outputs": [],
   "source": [
    "dwell_time = pd.read_csv('../datasets_v2/dwell_time_v1.csv')"
   ]
  },
  {
   "cell_type": "markdown",
   "metadata": {},
   "source": [
    "### Loading the 'mall_traffic.csv' dataset"
   ]
  },
  {
   "cell_type": "code",
   "execution_count": 6,
   "metadata": {},
   "outputs": [],
   "source": [
    "mall_traffic = pd.read_csv('../datasets_v2/mall_traffic.csv')"
   ]
  },
  {
   "cell_type": "markdown",
   "metadata": {},
   "source": [
    "### Loading the 'mall_v1.csv' dataset"
   ]
  },
  {
   "cell_type": "code",
   "execution_count": 7,
   "metadata": {},
   "outputs": [],
   "source": [
    "mall = pd.read_csv('../datasets_v2/mall_v1.csv')"
   ]
  },
  {
   "cell_type": "markdown",
   "metadata": {},
   "source": [
    "### Loading the 'people_flow_v1.csv' dataset"
   ]
  },
  {
   "cell_type": "code",
   "execution_count": 8,
   "metadata": {},
   "outputs": [],
   "source": [
    "people_flow = pd.read_csv('../datasets_v2/people_flow_v1.csv')"
   ]
  },
  {
   "cell_type": "markdown",
   "metadata": {},
   "source": [
    "### Loading the 'referenciel_traffic_v1.csv' dataset"
   ]
  },
  {
   "cell_type": "code",
   "execution_count": 9,
   "metadata": {},
   "outputs": [],
   "source": [
    "referenciel_traffic = pd.read_csv('../datasets_v2/referenciel_traffic_v1.csv')"
   ]
  },
  {
   "cell_type": "markdown",
   "metadata": {},
   "source": [
    "### Loading the 'store_v1.csv' dataset"
   ]
  },
  {
   "cell_type": "code",
   "execution_count": 10,
   "metadata": {},
   "outputs": [],
   "source": [
    "store = pd.read_csv('../datasets_v2/store_v1.csv')"
   ]
  },
  {
   "cell_type": "markdown",
   "metadata": {},
   "source": [
    "## Merging the dataframes in one"
   ]
  },
  {
   "cell_type": "markdown",
   "metadata": {},
   "source": [
    "### Merging 'store', 'costs' and 'referenciel_traffic' on 'store_id' key."
   ]
  },
  {
   "cell_type": "code",
   "execution_count": 26,
   "metadata": {},
   "outputs": [],
   "source": [
    "df = pd.merge(referenciel_traffic, store, on='store_id', how='inner')"
   ]
  },
  {
   "cell_type": "code",
   "execution_count": 30,
   "metadata": {},
   "outputs": [],
   "source": [
    "df = pd.merge(df, costs, on='store_id' , how='inner')"
   ]
  },
  {
   "cell_type": "markdown",
   "metadata": {},
   "source": [
    "### Merging 'people_flow' and 'df' on 'block_id' key."
   ]
  },
  {
   "cell_type": "code",
   "execution_count": 32,
   "metadata": {},
   "outputs": [],
   "source": [
    "df = pd.merge(df, people_flow, on=['block_id', 'external_mall_id'], how='inner')"
   ]
  },
  {
   "cell_type": "markdown",
   "metadata": {},
   "source": [
    "### Merging 'mall' and 'df' on 'mall_id' key."
   ]
  },
  {
   "cell_type": "code",
   "execution_count": 34,
   "metadata": {},
   "outputs": [],
   "source": [
    "df = pd.merge(df, mall, on='mall_id', how='inner')"
   ]
  },
  {
   "cell_type": "markdown",
   "metadata": {},
   "source": [
    "### Merging 'mall_traffic', 'dwell_time' and 'df' on 'external_mall_id' key."
   ]
  },
  {
   "cell_type": "code",
   "execution_count": 36,
   "metadata": {},
   "outputs": [],
   "source": [
    "df = pd.merge(df, mall_traffic, on='external_mall_id', how='inner')"
   ]
  },
  {
   "cell_type": "code",
   "execution_count": 39,
   "metadata": {},
   "outputs": [],
   "source": [
    "df = pd.merge(df, dwell_time, on=['external_mall_id', 'block_id'], how='inner')"
   ]
  },
  {
   "cell_type": "markdown",
   "metadata": {},
   "source": [
    "## EDA"
   ]
  },
  {
   "cell_type": "code",
   "execution_count": 42,
   "metadata": {},
   "outputs": [
    {
     "data": {
      "text/plain": [
       "Index(['store_id', 'block_id', 'external_mall_id', 'store_name', 'mall_id',\n",
       "       'store_year_opened', 'store_year_closed', 'store_branch_level_1',\n",
       "       'store_branch_level_2', 'store_branch_level_3', 'store_sales_r12m',\n",
       "       'store_rent_r12m', 'store_area', 'rent_incentive_r12m',\n",
       "       'service_charges_r12m', 'marketing_costs_r12m',\n",
       "       'administration_fees_r12m', 'real_estate_taxes_r12m',\n",
       "       'large_scale_works_r12m', 'maintenance_works_r12m',\n",
       "       'store_visits_monthly_average', 'store_window_flow_monthly_average',\n",
       "       'store_visits_daily_average', 'store_window_flow_daily_average',\n",
       "       'store_total_visits', 'store_total_window_flow',\n",
       "       'days_with_traffic_data', 'mall_name', 'mall_country',\n",
       "       'total_mall_area', 'visits_in_monthly_average',\n",
       "       'visits_out_monthly_average', 'visits_in_daily_average',\n",
       "       'visits_out_daily_average', 'total_visits_in', 'total_visits_out',\n",
       "       'avg_dwell_time', 'average_dwell_time', 'median_dwell_time'],\n",
       "      dtype='object')"
      ]
     },
     "execution_count": 42,
     "metadata": {},
     "output_type": "execute_result"
    }
   ],
   "source": [
    "df.columns"
   ]
  },
  {
   "cell_type": "code",
   "execution_count": 43,
   "metadata": {},
   "outputs": [
    {
     "data": {
      "text/plain": [
       "(3646, 39)"
      ]
     },
     "execution_count": 43,
     "metadata": {},
     "output_type": "execute_result"
    }
   ],
   "source": [
    "df.shape"
   ]
  },
  {
   "cell_type": "markdown",
   "metadata": {},
   "source": [
    "### Creating a 'total_costs' variable."
   ]
  },
  {
   "cell_type": "code",
   "execution_count": 44,
   "metadata": {},
   "outputs": [],
   "source": [
    "df['total_costs'] = (df['service_charges_r12m'] + df['marketing_costs_r12m'] + df['administration_fees_r12m']\n",
    "                        + df['real_estate_taxes_r12m'] + df['large_scale_works_r12m'] + df['maintenance_works_r12m'])"
   ]
  },
  {
   "cell_type": "markdown",
   "metadata": {},
   "source": [
    "### Plotting the average costs"
   ]
  },
  {
   "cell_type": "code",
   "execution_count": 48,
   "metadata": {},
   "outputs": [
    {
     "data": {
      "image/png": "[encoded data removed]",
      "text/plain": [
       "<Figure size 800x500 with 1 Axes>"
      ]
     },
     "metadata": {},
     "output_type": "display_data"
    }
   ],
   "source": [
    "# Calculate the mean of each column\n",
    "cost_columns = ['service_charges_r12m', 'marketing_costs_r12m', 'administration_fees_r12m',\n",
    "                        'real_estate_taxes_r12m', 'large_scale_works_r12m', 'maintenance_works_r12m', 'total_costs']\n",
    "column_means = df[cost_columns].mean()\n",
    "\n",
    "# Plot the mean values\n",
    "plt.figure(figsize=(8, 5))\n",
    "column_means.plot(kind='bar', color='skyblue')\n",
    "plt.title('Mean Value of Each Column')\n",
    "plt.xlabel('Columns')\n",
    "plt.ylabel('Mean Value')\n",
    "\n",
    "# Set the x-axis labels vertically\n",
    "plt.xticks(rotation=90)\n",
    "plt.grid(axis='y', linestyle='--', alpha=0.7)\n",
    "plt.tight_layout()  # Adjust layout to avoid clipping\n",
    "plt.show()"
   ]
  },
  {
   "cell_type": "code",
   "execution_count": null,
   "metadata": {},
   "outputs": [],
   "source": []
  },
  {
   "cell_type": "code",
   "execution_count": null,
   "metadata": {},
   "outputs": [],
   "source": []
  },
  {
   "cell_type": "markdown",
   "metadata": {},
   "source": []
  }
 ],
 "metadata": {
  "kernelspec": {
   "display_name": "URW_project_env",
   "language": "python",
   "name": "python3"
  },
  "language_info": {
   "codemirror_mode": {
    "name": "ipython",
    "version": 3
   },
   "file_extension": ".py",
   "mimetype": "text/x-python",
   "name": "python",
   "nbconvert_exporter": "python",
   "pygments_lexer": "ipython3",
   "version": "3.10.6"
  }
 },
 "nbformat": 4,
 "nbformat_minor": 2
}
